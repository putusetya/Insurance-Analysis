{
 "cells": [
  {
   "cell_type": "markdown",
   "id": "3451064d",
   "metadata": {},
   "source": [
    "# Analisa Variabel Kontinu (CFD)\n",
    "\n",
    "1. Mencari peluang besar tagihan berdasarkan BMI\n",
    "2. Mencari kemungkin terjadi, seorang perokok dengan BMI diatas 25 akan mendapatkan\n",
    "tagihan kesehatan di atas 16.700.\n",
    "3. Berapa peluang seseorang acak tagihan kesehatannya diatas 16.7k diketahui dia adalah\n",
    "perokok\n",
    "4. Mana yang lebih mungkin terjadi\n",
    "        a. Seseorang dengan BMI diatas 25 mendapatkan tagihan kesehatan diatas 16.7k,\n",
    "           atau\n",
    "        b. Seseorang dengan BMI dibawah 25 mendapatkan tagihan kesehatan diatas\n",
    "           16.7k\n",
    "    \n",
    "5. Mana yang lebih mungkin terjadi\n",
    "        a. Seseorang perokok dengan BMI diatas 25 mendapatkan tagihan kesehatan\n",
    "           diatas 16.7k, atau\n",
    "        b. Seseorang non perokok dengan BMI diatas 25 mendapatkan tagihan kesehatan\n",
    "           diatas 16.7k"
   ]
  },
  {
   "cell_type": "code",
   "execution_count": 1,
   "id": "39a1777a",
   "metadata": {},
   "outputs": [],
   "source": [
    "import pandas as pd\n",
    "import numpy as np\n",
    "from numpy import cov\n",
    "import seaborn as sns\n",
    "import matplotlib.pyplot as plt"
   ]
  },
  {
   "cell_type": "code",
   "execution_count": 2,
   "id": "22aef271",
   "metadata": {},
   "outputs": [],
   "source": [
    "def load_data_insurance():\n",
    "    data_insurance = pd.read_csv(\"insurance.csv\")\n",
    "    data_insurance = data_insurance.assign(bmi_category=pd.cut(data_insurance['bmi'], \n",
    "                               bins=[0, 25, 60], \n",
    "                               labels=['normal', 'over']))\n",
    "    data_insurance = data_insurance.assign(charges_category=pd.cut(data_insurance['charges'], \n",
    "                               bins=[0, 16_700, 65_000], \n",
    "                               labels=['normal', 'high']))\n",
    "    return data_insurance"
   ]
  },
  {
   "cell_type": "code",
   "execution_count": 3,
   "id": "ad3f388c",
   "metadata": {},
   "outputs": [],
   "source": [
    "data_insurance = load_data_insurance()\n",
    "data_smoker = data_insurance.query('smoker==\"yes\"')\n",
    "data_non_smoker = data_insurance.query('smoker==\"no\"')"
   ]
  },
  {
   "cell_type": "code",
   "execution_count": 4,
   "id": "17f32d1a",
   "metadata": {},
   "outputs": [
    {
     "name": "stdout",
     "output_type": "stream",
     "text": [
      "Peluang perokok dengan BMI di atas 25 (over) akan mendapatkan tagihan kesehatan di atas 16.700 (high) adalah 0.78\n",
      "\n",
      "bmi_category      normal  over\n",
      "charges_category              \n",
      "normal                16     4\n",
      "high                  39   215\n"
     ]
    }
   ],
   "source": [
    "# 2. Mencari kemungkinan terjadi, seorang perokok dengan BMI diatas 25 akan mendapatkan tagihan kesehatan di atas 16.700.\n",
    "\n",
    "crosstab_bmi_vs_charges_of_smoker = pd.crosstab(data_smoker['charges_category'], data_smoker['bmi_category'])\n",
    "total_smoker = crosstab_bmi_vs_charges_of_smoker['normal'].sum() + crosstab_bmi_vs_charges_of_smoker['over'].sum()\n",
    "smoker_bmi_over_charges_high = crosstab_bmi_vs_charges_of_smoker['over']['high']\n",
    "\n",
    "p_smoker_bmi_over_charges_high = smoker_bmi_over_charges_high/total_smoker\n",
    "\n",
    "print(f\"Peluang perokok dengan BMI di atas 25 (over) akan mendapatkan tagihan kesehatan di atas 16.700 (high) adalah {p_smoker_bmi_over_charges_high:.2f}\\n\")\n",
    "print(crosstab_bmi_vs_charges_of_smoker)"
   ]
  },
  {
   "cell_type": "code",
   "execution_count": 5,
   "id": "74996572",
   "metadata": {},
   "outputs": [
    {
     "name": "stdout",
     "output_type": "stream",
     "text": [
      "Peluang seseorang acak tagihan kesehatannya diatas 16.7k diketahui dia adalah perokok adalah 0.93\n",
      "\n",
      "smoker             no  yes\n",
      "charges_category          \n",
      "normal            984   20\n",
      "high               80  254\n"
     ]
    }
   ],
   "source": [
    "# 3. Berapa peluang seseorang acak tagihan kesehatannya diatas 16.7k diketahui dia adalah perokok?\n",
    "\n",
    "crosstab_charges_vs_smoker = pd.crosstab(data_insurance['charges_category'], data_insurance['smoker'])\n",
    "\n",
    "charges_high_and_smoker = crosstab_charges_vs_smoker['yes']['high']\n",
    "\n",
    "p_charges_high_given_smoker = charges_high_and_smoker/total_smoker\n",
    "\n",
    "print(f\"Peluang seseorang acak tagihan kesehatannya diatas 16.7k diketahui dia adalah perokok adalah {p_charges_high_given_smoker:.2f}\\n\")\n",
    "print(crosstab_charges_vs_smoker)"
   ]
  },
  {
   "cell_type": "code",
   "execution_count": 6,
   "id": "4fa53821",
   "metadata": {},
   "outputs": [
    {
     "name": "stdout",
     "output_type": "stream",
     "text": [
      "Peluang seseorang dengan BMI di atas 25 (over) mendapatkan tagihan kesehatan diatas 16.7k (high) adalah 0.21\n",
      "Peluang seseorang dengan BMI di bawah 25 (normal) mendapatkan tagihan kesehatan diatas 16.7k (high) adalah 0.04\n",
      "\n",
      "bmi_category      normal  over\n",
      "charges_category              \n",
      "normal               196   808\n",
      "high                  51   283\n"
     ]
    }
   ],
   "source": [
    "# 4. Mana yang lebih mungkin terjadi\n",
    "#    a. Seseorang dengan BMI diatas 25 mendapatkan tagihan kesehatan diatas 16.7k,\n",
    "#       atau\n",
    "#    b. Seseorang dengan BMI dibawah 25 mendapatkan tagihan kesehatan diatas 16.7k\n",
    "\n",
    "crosstab_bmi_vs_charges = pd.crosstab(data_insurance['charges_category'], data_insurance['bmi_category'])\n",
    "\n",
    "total = crosstab_bmi_vs_charges['normal'].sum() + crosstab_bmi_vs_charges['over'].sum()\n",
    "bmi_over_charges_high = crosstab_bmi_vs_charges['over']['high']\n",
    "bmi_normal_charges_high = crosstab_bmi_vs_charges['normal']['high']\n",
    "\n",
    "p_bmi_over_charges_high = bmi_over_charges_high/total\n",
    "p_bmi_normal_charges_high = bmi_normal_charges_high/total\n",
    "\n",
    "print(f\"Peluang seseorang dengan BMI di atas 25 (over) mendapatkan tagihan kesehatan diatas 16.7k (high) adalah {p_bmi_over_charges_high:.2f}\")\n",
    "print(f\"Peluang seseorang dengan BMI di bawah 25 (normal) mendapatkan tagihan kesehatan diatas 16.7k (high) adalah {p_bmi_normal_charges_high:.2f}\\n\")\n",
    "\n",
    "print(crosstab_bmi_vs_charges)"
   ]
  },
  {
   "cell_type": "code",
   "execution_count": 7,
   "id": "9971459f",
   "metadata": {},
   "outputs": [
    {
     "name": "stdout",
     "output_type": "stream",
     "text": [
      "Peluang seseorang perokok dengan BMI di atas 25 (over) mendapatkan tagihan kesehatan di atas 16.700 (high) adalah 0.78\n",
      "\n",
      "bmi_category      normal  over\n",
      "charges_category              \n",
      "normal                16     4\n",
      "high                  39   215\n",
      "\n",
      "Peluang seseorang non perokok dengan BMI di atas 25 (over) akan mendapatkan tagihan kesehatan di atas 16.700 (high) adalah 0.06\n",
      "\n",
      "bmi_category      normal  over\n",
      "charges_category              \n",
      "normal               180   804\n",
      "high                  12    68\n"
     ]
    }
   ],
   "source": [
    "# 5. Mana yang lebih mungkin terjadi\n",
    "#    a. Seseorang perokok dengan BMI diatas 25 mendapatkan tagihan kesehatan diatas 16.7k, atau\n",
    "#    b. Seseorang non perokok dengan BMI diatas 25 mendapatkan tagihan kesehatan diatas 16.7k\n",
    "\n",
    "print(f\"Peluang seseorang perokok dengan BMI di atas 25 (over) mendapatkan tagihan kesehatan di atas 16.700 (high) adalah {p_smoker_bmi_over_charges_high:.2f}\\n\")\n",
    "print(crosstab_bmi_vs_charges_of_smoker)\n",
    "\n",
    "\n",
    "crosstab_bmi_vs_charges_of_non_smoker = pd.crosstab(data_non_smoker['charges_category'], data_non_smoker['bmi_category'])\n",
    "total_non_smoker = crosstab_bmi_vs_charges_of_non_smoker['normal'].sum() + crosstab_bmi_vs_charges_of_non_smoker['over'].sum()\n",
    "non_smoker_bmi_over_charges_high = crosstab_bmi_vs_charges_of_non_smoker['over']['high']\n",
    "\n",
    "p_non_smoker_bmi_over_charges_high = non_smoker_bmi_over_charges_high/total_non_smoker\n",
    "\n",
    "print()\n",
    "print(f\"Peluang seseorang non perokok dengan BMI di atas 25 (over) akan mendapatkan tagihan kesehatan di atas 16.700 (high) adalah {p_non_smoker_bmi_over_charges_high:.2f}\\n\")\n",
    "print(crosstab_bmi_vs_charges_of_non_smoker)"
   ]
  },
  {
   "cell_type": "code",
   "execution_count": 8,
   "id": "ecb57105",
   "metadata": {},
   "outputs": [
    {
     "name": "stdout",
     "output_type": "stream",
     "text": [
      "Peluang seseorang dengan BMI di atas 25 (over) mendapatkan tagihan kesehatan di bawah 16.7k (high) adalah 0.60\n"
     ]
    }
   ],
   "source": [
    "# 1. Peluang seseorang dengan BMI di atas 25 mendapatkan tagihan kesehatan di bawah 16.7k\n",
    "\n",
    "bmi_over_charges_normal = crosstab_bmi_vs_charges['over']['normal']\n",
    "\n",
    "p_bmi_over_charges_normal = bmi_over_charges_normal/total\n",
    "\n",
    "print(f\"Peluang seseorang dengan BMI di atas 25 (over) mendapatkan tagihan kesehatan di bawah 16.7k (high) adalah {p_bmi_over_charges_normal:.2f}\")"
   ]
  },
  {
   "cell_type": "code",
   "execution_count": null,
   "id": "4e84616d",
   "metadata": {},
   "outputs": [],
   "source": []
  }
 ],
 "metadata": {
  "kernelspec": {
   "display_name": "Python 3 (ipykernel)",
   "language": "python",
   "name": "python3"
  },
  "language_info": {
   "codemirror_mode": {
    "name": "ipython",
    "version": 3
   },
   "file_extension": ".py",
   "mimetype": "text/x-python",
   "name": "python",
   "nbconvert_exporter": "python",
   "pygments_lexer": "ipython3",
   "version": "3.9.12"
  }
 },
 "nbformat": 4,
 "nbformat_minor": 5
}
