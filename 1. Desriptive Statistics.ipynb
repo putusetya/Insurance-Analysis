{
 "cells": [
  {
   "cell_type": "markdown",
   "id": "a6ff357a",
   "metadata": {},
   "source": [
    "# Insurance Analysis"
   ]
  },
  {
   "cell_type": "markdown",
   "id": "a0a378b7",
   "metadata": {},
   "source": [
    "# 1. Descriptive Statistics\n",
    "1. Rata-rata umur pengguna\n",
    "2. Rata-rata nilai BMI dari pengguna yang merokok\n",
    "3. Berapa rata rata umur pada data tersebut?\n",
    "4. Berapa rata rata nilai BMI dari yang merokok?\n",
    "5. Apakah variansi dari data charges perokok dan non perokok sama?\n",
    "6. Apakah rata rata umur perempuan dan laki-laki yang merokok sama?\n",
    "7. Mana yang lebih tinggi, rata rata tagihan kesehatan perokok atau non merokok?\n",
    "8. Mana yang lebih tinggi, rata rata tagihan kesehatan perokok yang BMI nya diatas 25\n",
    "atau non perokok yang BMI nya diatas 25\n",
    "9. BMI mana yang lebih tinggi, seseorang laki-laki atau perempuan?\n",
    "10. BMI mana yang lebih tinggi, seseorang perokok atau non perokok?\n"
   ]
  },
  {
   "cell_type": "code",
   "execution_count": 1,
   "id": "ce50c298",
   "metadata": {},
   "outputs": [],
   "source": [
    "import pandas as pd\n",
    "import numpy as np\n",
    "from numpy import cov\n",
    "import seaborn as sns\n",
    "import matplotlib.pyplot as plt"
   ]
  },
  {
   "cell_type": "code",
   "execution_count": 2,
   "id": "9f24d612",
   "metadata": {},
   "outputs": [],
   "source": [
    "def load_data_insurance():\n",
    "    data_insurance = pd.read_csv(\"insurance.csv\")\n",
    "    data_insurance = data_insurance.assign(bmi_category=pd.cut(data_insurance['bmi'], \n",
    "                               bins=[0, 25, 60], \n",
    "                               labels=['normal', 'over']))\n",
    "    data_insurance = data_insurance.assign(charges_category=pd.cut(data_insurance['charges'], \n",
    "                               bins=[0, 16_700, 65_000], \n",
    "                               labels=['normal', 'high']))\n",
    "    return data_insurance"
   ]
  },
  {
   "cell_type": "code",
   "execution_count": 3,
   "id": "2ba57972",
   "metadata": {},
   "outputs": [],
   "source": [
    "data_insurance = load_data_insurance()\n",
    "# data_insurance"
   ]
  },
  {
   "cell_type": "code",
   "execution_count": 4,
   "id": "c8d40b3f",
   "metadata": {},
   "outputs": [
    {
     "name": "stdout",
     "output_type": "stream",
     "text": [
      "              age\n",
      "mean    39.207025\n",
      "median  39.000000\n"
     ]
    }
   ],
   "source": [
    "# 3. Berapa rata rata umur pada data tersebut?\n",
    "\n",
    "mean_age = data_insurance.agg({'age' : ['mean', 'median']})\n",
    "print(mean_age)"
   ]
  },
  {
   "cell_type": "code",
   "execution_count": 5,
   "id": "220fd89d",
   "metadata": {},
   "outputs": [
    {
     "data": {
      "text/plain": [
       "smoker\n",
       "no     30.651795\n",
       "yes    30.708449\n",
       "Name: bmi, dtype: float64"
      ]
     },
     "execution_count": 5,
     "metadata": {},
     "output_type": "execute_result"
    }
   ],
   "source": [
    "# 4. Berapa rata rata nilai BMI dari yang merokok?\n",
    "\n",
    "mean_by_smoker = data_insurance.groupby(['smoker']).mean()\n",
    "mean_by_smoker['bmi']"
   ]
  },
  {
   "cell_type": "code",
   "execution_count": 6,
   "id": "71142b65",
   "metadata": {},
   "outputs": [
    {
     "name": "stdout",
     "output_type": "stream",
     "text": [
      "smoker\n",
      "no      5993.781819\n",
      "yes    11541.547176\n",
      "Name: charges, dtype: float64\n",
      "AxesSubplot(0.1,0.15;0.8x0.75)\n"
     ]
    },
    {
     "data": {
      "image/png": "[encoded data removed]",
      "text/plain": [
       "<Figure size 432x288 with 1 Axes>"
      ]
     },
     "metadata": {
      "needs_background": "light"
     },
     "output_type": "display_data"
    }
   ],
   "source": [
    "# 5. Apakah variansi dari data charges perokok dan non perokok sama\n",
    "\n",
    "std_by_smoker = data_insurance.groupby(['smoker']).std()\n",
    "print(std_by_smoker['charges'])\n",
    "\n",
    "boxplot_charges_by_smoker = data_insurance.boxplot(column='charges', by='smoker')\n",
    "print(boxplot_charges_by_smoker)"
   ]
  },
  {
   "cell_type": "code",
   "execution_count": 7,
   "id": "2f0edf63",
   "metadata": {},
   "outputs": [
    {
     "name": "stdout",
     "output_type": "stream",
     "text": [
      "sex\n",
      "female    38.608696\n",
      "male      38.446541\n",
      "Name: age, dtype: float64\n",
      "AxesSubplot(0.1,0.15;0.8x0.75)\n"
     ]
    },
    {
     "data": {
      "image/png": "[encoded data removed]",
      "text/plain": [
       "<Figure size 432x288 with 1 Axes>"
      ]
     },
     "metadata": {
      "needs_background": "light"
     },
     "output_type": "display_data"
    }
   ],
   "source": [
    "# 6. Apakah rata rata umur perempuan dan laki-laki yang merokok sama?\n",
    "\n",
    "mean_of_smoker = data_insurance.query('smoker == \"yes\"').groupby(['sex']).mean()\n",
    "print(mean_of_smoker['age'])\n",
    "\n",
    "# tabel_mean = data_insurance.groupby(['smoker', 'sex']).mean()\n",
    "# print(tabel_mean['age'])\n",
    "\n",
    "boxplot_smoker_age_by_sex = data_insurance.query('smoker == \"yes\"').boxplot(column='age', by='sex')\n",
    "print(boxplot_smoker_age_by_sex)"
   ]
  },
  {
   "cell_type": "code",
   "execution_count": 8,
   "id": "364a34f3",
   "metadata": {},
   "outputs": [
    {
     "name": "stdout",
     "output_type": "stream",
     "text": [
      "smoker\n",
      "no      8434.268298\n",
      "yes    32050.231832\n",
      "Name: charges, dtype: float64\n",
      "AxesSubplot(0.1,0.15;0.8x0.75)\n"
     ]
    },
    {
     "data": {
      "image/png": "[encoded data removed]",
      "text/plain": [
       "<Figure size 432x288 with 1 Axes>"
      ]
     },
     "metadata": {
      "needs_background": "light"
     },
     "output_type": "display_data"
    }
   ],
   "source": [
    "# 7. Mana yang lebih tinggi, rata rata tagihan kesehatan perokok atau non merokok?\n",
    "\n",
    "print(mean_by_smoker['charges'])\n",
    "\n",
    "boxplot_charges_by_smoker = data_insurance.boxplot(column='charges', by='smoker')\n",
    "print(boxplot_charges_by_smoker)"
   ]
  },
  {
   "cell_type": "code",
   "execution_count": 9,
   "id": "c9a9523e",
   "metadata": {},
   "outputs": [
    {
     "name": "stdout",
     "output_type": "stream",
     "text": [
      "smoker\n",
      "no      8629.589610\n",
      "yes    35116.909657\n",
      "Name: charges, dtype: float64\n",
      "AxesSubplot(0.1,0.15;0.8x0.75)\n"
     ]
    },
    {
     "data": {
      "image/png": "[encoded data removed]",
      "text/plain": [
       "<Figure size 432x288 with 1 Axes>"
      ]
     },
     "metadata": {
      "needs_background": "light"
     },
     "output_type": "display_data"
    }
   ],
   "source": [
    "# 8. Mana yang lebih tinggi, rata rata tagihan kesehatan perokok yang BMI nya diatas 25 atau non perokok yang BMI nya diatas 25?\n",
    "\n",
    "mean_of_bmi_over = data_insurance.query('bmi_category == \"over\"').groupby(['smoker']).mean()\n",
    "print(mean_of_bmi_over['charges'])\n",
    "\n",
    "boxplot_charges_of_bmi_over = data_insurance.query('bmi_category == \"over\"').boxplot(column='charges', by='smoker')\n",
    "print(boxplot_charges_of_bmi_over)"
   ]
  },
  {
   "cell_type": "code",
   "execution_count": 10,
   "id": "739990c8",
   "metadata": {},
   "outputs": [
    {
     "name": "stdout",
     "output_type": "stream",
     "text": [
      "sex\n",
      "female    30.377749\n",
      "male      30.943129\n",
      "Name: bmi, dtype: float64\n",
      "AxesSubplot(0.1,0.15;0.8x0.75)\n"
     ]
    },
    {
     "data": {
      "image/png": "[encoded data removed]",
      "text/plain": [
       "<Figure size 432x288 with 1 Axes>"
      ]
     },
     "metadata": {
      "needs_background": "light"
     },
     "output_type": "display_data"
    }
   ],
   "source": [
    "# 9. BMI mana yang lebih tinggi, seseorang laki-laki atau perempuan?\n",
    "\n",
    "mean_bmi_by_sex = (data_insurance.groupby(['sex']).mean())['bmi']\n",
    "print(mean_bmi_by_sex)\n",
    "\n",
    "boxplot_bmi_by_sex = data_insurance.boxplot(column='bmi', by=['sex'])\n",
    "print(boxplot_bmi_by_sex)"
   ]
  },
  {
   "cell_type": "code",
   "execution_count": 11,
   "id": "6a833822",
   "metadata": {},
   "outputs": [
    {
     "name": "stdout",
     "output_type": "stream",
     "text": [
      "smoker\n",
      "no     30.651795\n",
      "yes    30.708449\n",
      "Name: bmi, dtype: float64\n",
      "AxesSubplot(0.1,0.15;0.8x0.75)\n"
     ]
    },
    {
     "data": {
      "image/png": "[encoded data removed]",
      "text/plain": [
       "<Figure size 432x288 with 1 Axes>"
      ]
     },
     "metadata": {
      "needs_background": "light"
     },
     "output_type": "display_data"
    }
   ],
   "source": [
    "# 10. BMI mana yang lebih tinggi, seseorang perokok atau non perokok?\n",
    "\n",
    "print(mean_by_smoker['bmi'])\n",
    "\n",
    "boxplot_bmi_by_smoker = data_insurance.boxplot(column='bmi', by='smoker')\n",
    "print(boxplot_bmi_by_smoker)"
   ]
  },
  {
   "cell_type": "code",
   "execution_count": null,
   "id": "f49ee73f",
   "metadata": {},
   "outputs": [],
   "source": []
  }
 ],
 "metadata": {
  "kernelspec": {
   "display_name": "Python 3 (ipykernel)",
   "language": "python",
   "name": "python3"
  },
  "language_info": {
   "codemirror_mode": {
    "name": "ipython",
    "version": 3
   },
   "file_extension": ".py",
   "mimetype": "text/x-python",
   "name": "python",
   "nbconvert_exporter": "python",
   "pygments_lexer": "ipython3",
   "version": "3.9.12"
  }
 },
 "nbformat": 4,
 "nbformat_minor": 5
}
