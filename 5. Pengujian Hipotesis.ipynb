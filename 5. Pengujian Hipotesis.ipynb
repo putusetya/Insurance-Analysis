{
 "cells": [
  {
   "cell_type": "markdown",
   "id": "def7cb9b",
   "metadata": {},
   "source": [
    "# Pengujian Hipotesis\n",
    "\n",
    "Langkah terakhir, kita cari apakah ada bukti statistik yang cukup terhadap klaim atau hipotesis\n",
    "tentang tagihan kesehatan. Anda wajib mengecek 3 hipotesis tentang karakter populasi dari\n",
    "data. Hipotesis yang wajib uji adalah\n",
    "1. Tagihan kesehatan perokok lebih tinggi daripada tagihan kesehatan non perokok\n",
    "2. Tagihan kesehatan dengan BMI diatas 25 lebih tinggi daripada tagihan kesehatan dengan BMI dibawah 25\n",
    "\n",
    "Satu hipotesis lain, anda bisa pilih salah satu hipotesis dibawah ini, atau anda dapat membuat\n",
    "hipotesis lainnya\n",
    "1. BMI laki-laki dan perempuan sama\n",
    "2. Tagihan kesehatan laki-laki lebih besar dari perempuan\n",
    "3. Proporsi perokok berbeda di tiap region"
   ]
  },
  {
   "cell_type": "code",
   "execution_count": 2,
   "id": "641e6679",
   "metadata": {},
   "outputs": [],
   "source": [
    "import pandas as pd\n",
    "import numpy as np\n",
    "import seaborn as sns\n",
    "import matplotlib.pyplot as plt\n",
    "from statsmodels.stats.weightstats import ztest as ztest\n",
    "from scipy import stats"
   ]
  },
  {
   "cell_type": "code",
   "execution_count": 3,
   "id": "8d385a8b",
   "metadata": {},
   "outputs": [],
   "source": [
    "def load_data_insurance():\n",
    "    data_insurance = pd.read_csv(\"insurance.csv\")\n",
    "    data_insurance = data_insurance.assign(bmi_category=pd.cut(data_insurance['bmi'], \n",
    "                               bins=[0, 25, 60], \n",
    "                               labels=['normal', 'over']))\n",
    "    data_insurance = data_insurance.assign(charges_category=pd.cut(data_insurance['charges'], \n",
    "                               bins=[0, 16_700, 65_000], \n",
    "                               labels=['normal', 'high']))\n",
    "    return data_insurance"
   ]
  },
  {
   "cell_type": "code",
   "execution_count": 4,
   "id": "42c83846",
   "metadata": {},
   "outputs": [],
   "source": [
    "data_insurance = load_data_insurance()\n",
    "data_smoker = data_insurance.query('smoker==\"yes\"')\n",
    "data_non_smoker = data_insurance.query('smoker==\"no\"')\n",
    "\n",
    "data_bmi_over = data_insurance.query('bmi_category==\"over\"')\n",
    "data_bmi_normal = data_insurance.query('bmi_category==\"normal\"')\n",
    "\n",
    "data_female = data_insurance.query('sex==\"female\"')\n",
    "data_male = data_insurance.query('sex==\"male\"')"
   ]
  },
  {
   "cell_type": "code",
   "execution_count": 5,
   "id": "34f82ff8",
   "metadata": {},
   "outputs": [
    {
     "data": {
      "text/plain": [
       "(46.66492117272371, 0.0)"
      ]
     },
     "execution_count": 5,
     "metadata": {},
     "output_type": "execute_result"
    }
   ],
   "source": [
    "# 1. Tagihan kesehatan perokok lebih tinggi daripada tagihan kesehatan non perokok\n",
    "\n",
    "ztest(data_smoker['charges'], data_non_smoker['charges'], value=0, alternative='larger')"
   ]
  },
  {
   "cell_type": "code",
   "execution_count": 6,
   "id": "97dc9497",
   "metadata": {},
   "outputs": [
    {
     "data": {
      "text/plain": [
       "(4.319946909530397, 7.803337139644701e-06)"
      ]
     },
     "execution_count": 6,
     "metadata": {},
     "output_type": "execute_result"
    }
   ],
   "source": [
    "# 2. Tagihan kesehatan dengan BMI diatas 25 lebih tinggi daripada tagihan kesehatan dengan BMI dibawah 25\n",
    "\n",
    "ztest(data_bmi_over['charges'], data_bmi_normal['charges'], value=0, alternative='larger')"
   ]
  },
  {
   "cell_type": "code",
   "execution_count": 7,
   "id": "3e119cd0",
   "metadata": {},
   "outputs": [
    {
     "data": {
      "text/plain": [
       "(1.6967526357522242, 0.08974343679943912)"
      ]
     },
     "execution_count": 7,
     "metadata": {},
     "output_type": "execute_result"
    }
   ],
   "source": [
    "# 3. BMI laki-laki dan perempuan sama\n",
    "\n",
    "ztest(data_male['bmi'], data_female['bmi'], value=0, alternative='two-sided')"
   ]
  },
  {
   "cell_type": "code",
   "execution_count": 8,
   "id": "554361c3",
   "metadata": {},
   "outputs": [
    {
     "data": {
      "text/plain": [
       "(2.097546590051688, 0.017972608708410026)"
      ]
     },
     "execution_count": 8,
     "metadata": {},
     "output_type": "execute_result"
    }
   ],
   "source": [
    "# 4. Tagihan kesehatan laki-laki lebih besar dari perempuan\n",
    "\n",
    "ztest(data_male['charges'], data_female['charges'], value=0, alternative='larger')"
   ]
  },
  {
   "cell_type": "code",
   "execution_count": null,
   "id": "fd921ec8",
   "metadata": {},
   "outputs": [],
   "source": []
  }
 ],
 "metadata": {
  "kernelspec": {
   "display_name": "Python 3 (ipykernel)",
   "language": "python",
   "name": "python3"
  },
  "language_info": {
   "codemirror_mode": {
    "name": "ipython",
    "version": 3
   },
   "file_extension": ".py",
   "mimetype": "text/x-python",
   "name": "python",
   "nbconvert_exporter": "python",
   "pygments_lexer": "ipython3",
   "version": "3.9.12"
  }
 },
 "nbformat": 4,
 "nbformat_minor": 5
}
